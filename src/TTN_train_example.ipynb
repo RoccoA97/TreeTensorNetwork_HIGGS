{
 "cells": [
  {
   "cell_type": "markdown",
   "metadata": {},
   "source": [
    "# TTN CLASSIFIER\n",
    "\n",
    "In this notebook we will shown an example of how to use our packages in order to create a TTN classifier.The packages we present are included in the utils and layers folders."
   ]
  },
  {
   "cell_type": "code",
   "execution_count": 1,
   "metadata": {},
   "outputs": [],
   "source": [
    "#import python libries \n",
    "import os\n",
    "import json\n",
    "\n",
    "import pandas            as pd\n",
    "import tensorflow        as tf\n",
    "import tensornetwork     as tn\n",
    "import numpy             as np\n",
    "import matplotlib.pyplot as plt\n",
    "\n",
    "from tensorflow.keras.models import Sequential\n",
    "from sklearn.metrics         import roc_curve\n",
    "from sklearn.metrics         import roc_auc_score"
   ]
  },
  {
   "cell_type": "code",
   "execution_count": 2,
   "metadata": {},
   "outputs": [],
   "source": [
    "#import TTN package and preprocess package\n",
    "import utils.preprocess  as preprocess                  #dataset preprocessing\n",
    " \n",
    "from layers.TTN_SingleNode import TTN_SingleNode        #single node layer\n",
    "from ModelMaker            import Make_SingleNode_Model #model builder"
   ]
  },
  {
   "cell_type": "markdown",
   "metadata": {},
   "source": [
    "## LOAD AND PREPROCESS THE DATASET\n",
    "\n",
    "Given the path were data is present and the number of sample to load we retrieve them using a pandas dataframe. The dataset is then proprocessed depending on the required map, map order and number of features to contract to each weight tensor."
   ]
  },
  {
   "cell_type": "code",
   "execution_count": 3,
   "metadata": {},
   "outputs": [],
   "source": [
    "#dataset path\n",
    "DATA_PATH = \"../data/\"\n",
    "N = 1100000 #number of sample to load\n",
    "\n",
    "#dataset loading\n",
    "if os.path.isfile(DATA_PATH + \"HIGGS.csv.gz\"):\n",
    "    data = pd.read_csv(\n",
    "                DATA_PATH         + 'HIGGS.csv.gz'       ,  \n",
    "                compression='gzip', error_bad_lines=False, \n",
    "                nrows=N           , header=None          \n",
    "            )\n",
    "elif os.path.isfile(DATA_PATH + \"HIGGS.csv\"):\n",
    "    data = pd.read_csv(\n",
    "                DATA_PATH + 'HIGGS.csv',    nrows=N  ,\n",
    "                error_bad_lines=False  , header=None \n",
    "            )\n",
    "else:\n",
    "    print(\"Error: Data file not found\")"
   ]
  },
  {
   "cell_type": "code",
   "execution_count": 4,
   "metadata": {},
   "outputs": [
    {
     "name": "stdout",
     "output_type": "stream",
     "text": [
      "Data shape\n",
      "x_data shape:  (1100000, 28) y_data shape:  (1100000,)\n",
      "Padded data shape\n",
      "x_data shape:  (1100000, 32) y_data shape:  (1100000,)\n",
      "Mapped data shape\n",
      "x_data shape:  (1100000, 32, 2) y_data shape:  (1100000,)\n",
      "Train, validation, test data shape\n",
      "x_train shape:  (1000000, 32, 2) y_train shape:  (1000000,)\n",
      "x_val   shape:  (50000, 32, 2) y_val   shape:  (50000,)\n",
      "x_test  shape:  (50000, 32, 2) y_test  shape:  (50000,)\n"
     ]
    }
   ],
   "source": [
    "#dataset preprocessing\n",
    "x_train, x_val, x_test, y_train, y_val, y_test = \\\n",
    "    preprocess.Preprocess(\n",
    "        data                       , \n",
    "        feature_map  = 'spherical' , #map typology\n",
    "        map_order    = 2           , #map order\n",
    "        con_order    = 2           , #number of contraction per site\n",
    "        verbose      = True        , #verbose (print shapes for debugging)\n",
    "        N_train      = 1000000     , #train set size\n",
    "        N_val        = 50000       , #validation set size\n",
    "        N_test       = 50000         #test set size\n",
    "    )"
   ]
  },
  {
   "cell_type": "markdown",
   "metadata": {},
   "source": [
    "## MODEL CREATION\n",
    "\n",
    "Create a TTN model using the apposite function. From the input shape of the dataset the function will initialze a correct umber of layer to obtain a final prediction for the sample classes"
   ]
  },
  {
   "cell_type": "code",
   "execution_count": 5,
   "metadata": {},
   "outputs": [
    {
     "name": "stdout",
     "output_type": "stream",
     "text": [
      "Model: \"sequential\"\n",
      "_________________________________________________________________\n",
      "Layer (type)                 Output Shape              Param #   \n",
      "=================================================================\n",
      "ttn__single_node (TTN_Single (None, 16, 15)            1200      \n",
      "_________________________________________________________________\n",
      "ttn__single_node_1 (TTN_Sing (None, 8, 15)             27120     \n",
      "_________________________________________________________________\n",
      "ttn__single_node_2 (TTN_Sing (None, 4, 15)             13560     \n",
      "_________________________________________________________________\n",
      "ttn__single_node_3 (TTN_Sing (None, 2, 15)             6780      \n",
      "_________________________________________________________________\n",
      "ttn__single_node_4 (TTN_Sing (None, 1, 1)              226       \n",
      "=================================================================\n",
      "Total params: 48,886\n",
      "Trainable params: 48,886\n",
      "Non-trainable params: 0\n",
      "_________________________________________________________________\n"
     ]
    }
   ],
   "source": [
    "#instantiate the model, two models are provided, a comparison between them is whoen in the Characterization notebook\n",
    "\n",
    "#this model is a \"pure\" ttn with no optimizations nor activations\n",
    "tn_model = Make_SingleNode_Model( input_shape=(x_train.shape[1:]),bond_dim=15, activation=None, use_batch_norm=False,use_reg =False, n_contr=2)\n",
    "#this model uses elu activation function kernel regualrization and batch normalization\n",
    "#uncomment this line to use the optimized mode \n",
    "#tn_model = Make_SingleNode_Model( input_shape=(x_train.shape[1:]),bond_dim=10, activation=None, use_batch_norm=False,use_reg =False, n_contr=2\n",
    "\n",
    "#compile the model\n",
    "\n",
    "\n",
    "\n",
    "tn_model.compile(\n",
    "    optimizer = 'adam',                #optimizer\n",
    "    loss      = 'binary_crossentropy', #loss function\n",
    "    metrics   = ['accuracy']           # metric to observe\n",
    ")\n",
    "tn_model.summary()"
   ]
  },
  {
   "cell_type": "markdown",
   "metadata": {},
   "source": [
    "## TRAINING\n",
    "\n",
    "Training is executed over the training set. During the training procedure, using a custom callback, we can obtain the training time needed for each epoch."
   ]
  },
  {
   "cell_type": "code",
   "execution_count": 6,
   "metadata": {
    "scrolled": true
   },
   "outputs": [],
   "source": [
    "#custom callback for epoch training time\n",
    "class timecallback(tf.keras.callbacks.History):\n",
    "    def __init__(self):\n",
    "        self.times = []\n",
    "        self.epochs = []\n",
    "        # use this value as reference to calculate cummulative time taken\n",
    "        self.timetaken = tf.timestamp()\n",
    "    def on_epoch_end(self,epoch,logs = {}):\n",
    "        time_epoch = tf.timestamp()\n",
    "        self.times.append(time_epoch - self.timetaken)\n",
    "        self.timetaken = time_epoch\n",
    "        self.epochs.append(epoch)\n",
    "    def on_train_end(self,logs = {}):\n",
    "        self.times = [t.numpy() for t in self.times]\n",
    "        \n",
    "timeCall = timecallback()"
   ]
  },
  {
   "cell_type": "code",
   "execution_count": 7,
   "metadata": {
    "scrolled": true
   },
   "outputs": [
    {
     "name": "stdout",
     "output_type": "stream",
     "text": [
      "Train on 1000000 samples, validate on 50000 samples\n",
      "Epoch 1/15\n",
      "1000000/1000000 [==============================] - 10s 10us/sample - loss: 0.6830 - accuracy: 0.5620 - val_loss: 0.6737 - val_accuracy: 0.5964\n",
      "Epoch 2/15\n",
      "1000000/1000000 [==============================] - 6s 6us/sample - loss: 0.6637 - accuracy: 0.6025 - val_loss: 0.6513 - val_accuracy: 0.6235\n",
      "Epoch 3/15\n",
      "1000000/1000000 [==============================] - 6s 6us/sample - loss: 0.6408 - accuracy: 0.6386 - val_loss: 0.6341 - val_accuracy: 0.6455\n",
      "Epoch 4/15\n",
      "1000000/1000000 [==============================] - 6s 6us/sample - loss: 0.6316 - accuracy: 0.6495 - val_loss: 0.6246 - val_accuracy: 0.6583\n",
      "Epoch 5/15\n",
      "1000000/1000000 [==============================] - 6s 6us/sample - loss: 0.6245 - accuracy: 0.6591 - val_loss: 0.6230 - val_accuracy: 0.6638\n",
      "Epoch 6/15\n",
      "1000000/1000000 [==============================] - 6s 6us/sample - loss: 0.6203 - accuracy: 0.6628 - val_loss: 0.6181 - val_accuracy: 0.6675\n",
      "Epoch 7/15\n",
      "1000000/1000000 [==============================] - 6s 6us/sample - loss: 0.6176 - accuracy: 0.6656 - val_loss: 0.6151 - val_accuracy: 0.6646\n",
      "Epoch 8/15\n",
      "1000000/1000000 [==============================] - 6s 6us/sample - loss: 0.6147 - accuracy: 0.6699 - val_loss: 0.6127 - val_accuracy: 0.6662\n",
      "Epoch 9/15\n",
      "1000000/1000000 [==============================] - 6s 6us/sample - loss: 0.6123 - accuracy: 0.6723 - val_loss: 0.6117 - val_accuracy: 0.6767\n",
      "Epoch 10/15\n",
      "1000000/1000000 [==============================] - 6s 6us/sample - loss: 0.6094 - accuracy: 0.6757 - val_loss: 0.6069 - val_accuracy: 0.6821\n",
      "Epoch 11/15\n",
      "1000000/1000000 [==============================] - 6s 6us/sample - loss: 0.6062 - accuracy: 0.6786 - val_loss: 0.6037 - val_accuracy: 0.6780\n",
      "Epoch 12/15\n",
      "1000000/1000000 [==============================] - 6s 6us/sample - loss: 0.6048 - accuracy: 0.6797 - val_loss: 0.6021 - val_accuracy: 0.6815\n",
      "Epoch 13/15\n",
      "1000000/1000000 [==============================] - 6s 6us/sample - loss: 0.6034 - accuracy: 0.6811 - val_loss: 0.6031 - val_accuracy: 0.6762\n",
      "Epoch 14/15\n",
      "1000000/1000000 [==============================] - 6s 6us/sample - loss: 0.6024 - accuracy: 0.6819 - val_loss: 0.6038 - val_accuracy: 0.6723\n",
      "Epoch 15/15\n",
      "1000000/1000000 [==============================] - 6s 6us/sample - loss: 0.6008 - accuracy: 0.6835 - val_loss: 0.6010 - val_accuracy: 0.6811\n"
     ]
    }
   ],
   "source": [
    "# Train the tensorized model for n epochs\n",
    "#with tf.device('/device:cpu:0'): #change to cpu is gpu is not avaible\n",
    "with tf.device('/device:gpu:0'):\n",
    "    history = tn_model.fit(\n",
    "        x_train, y_train,\n",
    "        validation_data = (x_val,y_val), #validation set\n",
    "        epochs          = 15           , #trianing epochs           \n",
    "        batch_size      = 5000         ,\n",
    "        callbacks       = [timeCall]\n",
    "    )\n",
    "    "
   ]
  },
  {
   "cell_type": "markdown",
   "metadata": {},
   "source": [
    "## SMALL ANALYSIS OF THE MODEL\n",
    "\n",
    "Here some simple analysis that can be done after the training procedure. "
   ]
  },
  {
   "cell_type": "code",
   "execution_count": 8,
   "metadata": {},
   "outputs": [
    {
     "name": "stdout",
     "output_type": "stream",
     "text": [
      "Mean training time      : 6.164\n",
      "Max accuraty            : 0.684\n",
      "Max validation accuraty : 0.682\n"
     ]
    }
   ],
   "source": [
    "print(\"Mean training time      :\", round(np.mean(np.array(timeCall.times))   , 3))\n",
    "print(\"Max accuraty            :\", round(max(history.history['accuracy'])    , 3))\n",
    "print(\"Max validation accuraty :\", round(max(history.history['val_accuracy']), 3))"
   ]
  },
  {
   "cell_type": "code",
   "execution_count": 9,
   "metadata": {},
   "outputs": [
    {
     "name": "stdout",
     "output_type": "stream",
     "text": [
      "50000/50000 [==============================] - 8s 163us/sample - loss: 0.5984 - accuracy: 0.6841\n",
      "Model test accuracy:  0.68412\n"
     ]
    }
   ],
   "source": [
    "#evaluation of the model on a test set\n",
    "res = tn_model.evaluate(x_test, y_test)\n",
    "print(\"Model test accuracy: \", res[1])"
   ]
  },
  {
   "cell_type": "code",
   "execution_count": 10,
   "metadata": {},
   "outputs": [
    {
     "name": "stdout",
     "output_type": "stream",
     "text": [
      "No Skill : ROC AUC=0.500\n",
      "TTN model: ROC AUC=0.745\n"
     ]
    },
    {
     "data": {
      "image/png": "[encoded data removed]",
      "text/plain": [
       "<Figure size 432x288 with 1 Axes>"
      ]
     },
     "metadata": {
      "needs_background": "light"
     },
     "output_type": "display_data"
    }
   ],
   "source": [
    "#compute ROC curve and AUC score\n",
    "y_pred = tn_model.predict(x_test).flatten()\n",
    "\n",
    "ns_probs = [0 for _ in range(len(y_test))] #always zero model\n",
    "# calculate scores\n",
    "ns_auc = roc_auc_score(y_test, ns_probs)\n",
    "lr_auc = roc_auc_score(y_test, y_pred)\n",
    "# summarize scores\n",
    "print('No Skill : ROC AUC=%.3f' % (ns_auc))\n",
    "print('TTN model: ROC AUC=%.3f' % (lr_auc))\n",
    "# calculate roc curves\n",
    "ns_fpr, ns_tpr, _ = roc_curve(y_test, ns_probs)\n",
    "lr_fpr, lr_tpr, _ = roc_curve(y_test, y_pred)\n",
    "# plot the roc curve for the model\n",
    "plt.plot(ns_fpr, ns_tpr, linestyle='--', label='No Skill')\n",
    "plt.plot(lr_fpr, lr_tpr, marker='.',     label='TTN')\n",
    "plt.xlabel('False Positive Rate')\n",
    "plt.ylabel('True Positive Rate')\n",
    "plt.legend()\n",
    "plt.show()\n"
   ]
  }
 ],
 "metadata": {
  "kernelspec": {
   "display_name": "Python 3",
   "language": "python",
   "name": "python3"
  },
  "language_info": {
   "codemirror_mode": {
    "name": "ipython",
    "version": 3
   },
   "file_extension": ".py",
   "mimetype": "text/x-python",
   "name": "python",
   "nbconvert_exporter": "python",
   "pygments_lexer": "ipython3",
   "version": "3.7.7"
  }
 },
 "nbformat": 4,
 "nbformat_minor": 4
}
